{
 "cells": [
  {
   "cell_type": "code",
   "execution_count": 115,
   "metadata": {},
   "outputs": [],
   "source": [
    "import pandas as pd\n",
    "import tensorflow as tf\n",
    "from keras import layers\n",
    "import matplotlib.pyplot as plt\n",
    "%matplotlib inline\n",
    "import numpy as np\n",
    "from sklearn.preprocessing import StandardScaler\n",
    "from sklearn.compose import make_column_transformer"
   ]
  },
  {
   "cell_type": "code",
   "execution_count": 116,
   "metadata": {},
   "outputs": [
    {
     "data": {
      "text/html": [
       "<div>\n",
       "<style scoped>\n",
       "    .dataframe tbody tr th:only-of-type {\n",
       "        vertical-align: middle;\n",
       "    }\n",
       "\n",
       "    .dataframe tbody tr th {\n",
       "        vertical-align: top;\n",
       "    }\n",
       "\n",
       "    .dataframe thead th {\n",
       "        text-align: right;\n",
       "    }\n",
       "</style>\n",
       "<table border=\"1\" class=\"dataframe\">\n",
       "  <thead>\n",
       "    <tr style=\"text-align: right;\">\n",
       "      <th></th>\n",
       "      <th>Open</th>\n",
       "      <th>High</th>\n",
       "      <th>Low</th>\n",
       "      <th>Close</th>\n",
       "      <th>Adj Close</th>\n",
       "      <th>Volume</th>\n",
       "    </tr>\n",
       "    <tr>\n",
       "      <th>Date</th>\n",
       "      <th></th>\n",
       "      <th></th>\n",
       "      <th></th>\n",
       "      <th></th>\n",
       "      <th></th>\n",
       "      <th></th>\n",
       "    </tr>\n",
       "  </thead>\n",
       "  <tbody>\n",
       "    <tr>\n",
       "      <th>2010-06-30</th>\n",
       "      <td>1.719333</td>\n",
       "      <td>2.028000</td>\n",
       "      <td>1.553333</td>\n",
       "      <td>1.588667</td>\n",
       "      <td>1.588667</td>\n",
       "      <td>257806500</td>\n",
       "    </tr>\n",
       "    <tr>\n",
       "      <th>2010-07-01</th>\n",
       "      <td>1.666667</td>\n",
       "      <td>1.728000</td>\n",
       "      <td>1.351333</td>\n",
       "      <td>1.464000</td>\n",
       "      <td>1.464000</td>\n",
       "      <td>123282000</td>\n",
       "    </tr>\n",
       "    <tr>\n",
       "      <th>2010-07-02</th>\n",
       "      <td>1.533333</td>\n",
       "      <td>1.540000</td>\n",
       "      <td>1.247333</td>\n",
       "      <td>1.280000</td>\n",
       "      <td>1.280000</td>\n",
       "      <td>77097000</td>\n",
       "    </tr>\n",
       "    <tr>\n",
       "      <th>2010-07-06</th>\n",
       "      <td>1.333333</td>\n",
       "      <td>1.333333</td>\n",
       "      <td>1.055333</td>\n",
       "      <td>1.074000</td>\n",
       "      <td>1.074000</td>\n",
       "      <td>103003500</td>\n",
       "    </tr>\n",
       "    <tr>\n",
       "      <th>2010-07-07</th>\n",
       "      <td>1.093333</td>\n",
       "      <td>1.108667</td>\n",
       "      <td>0.998667</td>\n",
       "      <td>1.053333</td>\n",
       "      <td>1.053333</td>\n",
       "      <td>103825500</td>\n",
       "    </tr>\n",
       "    <tr>\n",
       "      <th>...</th>\n",
       "      <td>...</td>\n",
       "      <td>...</td>\n",
       "      <td>...</td>\n",
       "      <td>...</td>\n",
       "      <td>...</td>\n",
       "      <td>...</td>\n",
       "    </tr>\n",
       "    <tr>\n",
       "      <th>2022-09-13</th>\n",
       "      <td>292.899994</td>\n",
       "      <td>297.399994</td>\n",
       "      <td>290.399994</td>\n",
       "      <td>292.130005</td>\n",
       "      <td>292.130005</td>\n",
       "      <td>68229600</td>\n",
       "    </tr>\n",
       "    <tr>\n",
       "      <th>2022-09-14</th>\n",
       "      <td>292.239990</td>\n",
       "      <td>306.000000</td>\n",
       "      <td>291.640015</td>\n",
       "      <td>302.609985</td>\n",
       "      <td>302.609985</td>\n",
       "      <td>72628700</td>\n",
       "    </tr>\n",
       "    <tr>\n",
       "      <th>2022-09-15</th>\n",
       "      <td>301.829987</td>\n",
       "      <td>309.119995</td>\n",
       "      <td>300.720001</td>\n",
       "      <td>303.750000</td>\n",
       "      <td>303.750000</td>\n",
       "      <td>64795500</td>\n",
       "    </tr>\n",
       "    <tr>\n",
       "      <th>2022-09-16</th>\n",
       "      <td>299.609985</td>\n",
       "      <td>303.709991</td>\n",
       "      <td>295.600006</td>\n",
       "      <td>303.350006</td>\n",
       "      <td>303.350006</td>\n",
       "      <td>86949500</td>\n",
       "    </tr>\n",
       "    <tr>\n",
       "      <th>2022-09-19</th>\n",
       "      <td>300.089996</td>\n",
       "      <td>309.839996</td>\n",
       "      <td>297.799988</td>\n",
       "      <td>309.070007</td>\n",
       "      <td>309.070007</td>\n",
       "      <td>60060200</td>\n",
       "    </tr>\n",
       "  </tbody>\n",
       "</table>\n",
       "<p>3077 rows × 6 columns</p>\n",
       "</div>"
      ],
      "text/plain": [
       "                  Open        High         Low       Close   Adj Close  \\\n",
       "Date                                                                     \n",
       "2010-06-30    1.719333    2.028000    1.553333    1.588667    1.588667   \n",
       "2010-07-01    1.666667    1.728000    1.351333    1.464000    1.464000   \n",
       "2010-07-02    1.533333    1.540000    1.247333    1.280000    1.280000   \n",
       "2010-07-06    1.333333    1.333333    1.055333    1.074000    1.074000   \n",
       "2010-07-07    1.093333    1.108667    0.998667    1.053333    1.053333   \n",
       "...                ...         ...         ...         ...         ...   \n",
       "2022-09-13  292.899994  297.399994  290.399994  292.130005  292.130005   \n",
       "2022-09-14  292.239990  306.000000  291.640015  302.609985  302.609985   \n",
       "2022-09-15  301.829987  309.119995  300.720001  303.750000  303.750000   \n",
       "2022-09-16  299.609985  303.709991  295.600006  303.350006  303.350006   \n",
       "2022-09-19  300.089996  309.839996  297.799988  309.070007  309.070007   \n",
       "\n",
       "               Volume  \n",
       "Date                   \n",
       "2010-06-30  257806500  \n",
       "2010-07-01  123282000  \n",
       "2010-07-02   77097000  \n",
       "2010-07-06  103003500  \n",
       "2010-07-07  103825500  \n",
       "...               ...  \n",
       "2022-09-13   68229600  \n",
       "2022-09-14   72628700  \n",
       "2022-09-15   64795500  \n",
       "2022-09-16   86949500  \n",
       "2022-09-19   60060200  \n",
       "\n",
       "[3077 rows x 6 columns]"
      ]
     },
     "execution_count": 116,
     "metadata": {},
     "output_type": "execute_result"
    }
   ],
   "source": [
    "df = pd.read_csv('TeslaInc. ( TSLA ).csv').dropna()\n",
    "df.Date=pd.to_datetime(df.Date, infer_datetime_format=True)\n",
    "df=df.set_index('Date')\n",
    "#df= df.iloc[int(df.shape[0]/2.75):,:]\n",
    "df"
   ]
  },
  {
   "cell_type": "code",
   "execution_count": 117,
   "metadata": {},
   "outputs": [
    {
     "data": {
      "text/plain": [
       "array([<AxesSubplot:xlabel='Date'>, <AxesSubplot:xlabel='Date'>,\n",
       "       <AxesSubplot:xlabel='Date'>, <AxesSubplot:xlabel='Date'>,\n",
       "       <AxesSubplot:xlabel='Date'>, <AxesSubplot:xlabel='Date'>],\n",
       "      dtype=object)"
      ]
     },
     "execution_count": 117,
     "metadata": {},
     "output_type": "execute_result"
    },
    {
     "data": {
      "image/png": "[encoded data removed]",
      "text/plain": [
       "<Figure size 432x288 with 6 Axes>"
      ]
     },
     "metadata": {
      "needs_background": "light"
     },
     "output_type": "display_data"
    }
   ],
   "source": [
    "df.plot(subplots=True)"
   ]
  },
  {
   "cell_type": "code",
   "execution_count": 118,
   "metadata": {},
   "outputs": [
    {
     "data": {
      "text/plain": [
       "<AxesSubplot:xlabel='Date'>"
      ]
     },
     "execution_count": 118,
     "metadata": {},
     "output_type": "execute_result"
    },
    {
     "data": {
      "image/png": "[encoded data removed]",
      "text/plain": [
       "<Figure size 432x288 with 1 Axes>"
      ]
     },
     "metadata": {
      "needs_background": "light"
     },
     "output_type": "display_data"
    }
   ],
   "source": [
    "(df.Close-df.Open).plot()"
   ]
  },
  {
   "cell_type": "code",
   "execution_count": 119,
   "metadata": {},
   "outputs": [],
   "source": [
    "#here Edi will find out what features to consider for maximum efficiency.\n",
    "list_of_features=['Open','Close','Adj Close', 'Volume']\n",
    "preprocessor = make_column_transformer((StandardScaler(), list_of_features))"
   ]
  },
  {
   "cell_type": "code",
   "execution_count": 120,
   "metadata": {},
   "outputs": [],
   "source": [
    "def scaling(dataf,type):\n",
    "    if type=='linear':\n",
    "        return dataf.min(),dataf.max(),(dataf-dataf.min())/(dataf.max()-dataf.min())\n",
    "    elif type=='log': return np.log10(dataf)\n",
    "    elif type=='zscore': return dataf.mean(),dataf.std(),(dataf- dataf.mean())/dataf.std()\n",
    "    else: raise ValueError\n",
    "def inverse_scaling(dataf,type,df_min=None,df_max=None,df_mean=None,df_std=None):\n",
    "    if type=='linear':\n",
    "        return (df_max-df_min)*dataf+df_min\n",
    "    elif type=='log': return np.power(10,dataf)\n",
    "    elif type=='zscore': return df_std*dataf+df_mean\n",
    "    else: raise ValueError    "
   ]
  },
  {
   "cell_type": "code",
   "execution_count": 121,
   "metadata": {},
   "outputs": [],
   "source": [
    "frac=0.91\n",
    "dff=df.copy()\n",
    "df_train= dff.iloc[:int(frac*df.shape[0]),:]\n",
    "df_val = dff.drop(df_train.index,axis=0)\n",
    "X_train = df_train[list_of_features]\n",
    "X_val = df_val[list_of_features]\n",
    "y_train = df_train.drop(X_train,axis=1)\n",
    "y_val = df_val.drop(X_val,axis=1)\n",
    "X_train= preprocessor.fit_transform(X_train)\n",
    "#y_train_mean,y_train_std,\n",
    "y_train=scaling(y_train,'log')\n",
    "X_val= preprocessor.fit_transform(X_val)\n",
    "#y_val_mean,y_val_std,\n",
    "y_val = scaling(y_val,'log')"
   ]
  },
  {
   "cell_type": "code",
   "execution_count": 122,
   "metadata": {},
   "outputs": [
    {
     "name": "stdout",
     "output_type": "stream",
     "text": [
      "[[-0.52670402 -0.52909272 -0.52909272  1.8986906 ]\n",
      " [-0.52762236 -0.53126616 -0.53126616  0.33046358]\n",
      " [-0.52994731 -0.534474   -0.534474   -0.20794068]\n",
      " ...\n",
      " [ 3.59328243  3.56918397  3.56918397 -0.63693995]\n",
      " [ 3.5858426   3.55657351  3.55657351 -0.76395019]\n",
      " [ 3.54881783  3.64043071  3.64043071 -0.49611199]]\n",
      "                High       Low\n",
      "Date                          \n",
      "2010-06-30  0.307068  0.191265\n",
      "2010-07-01  0.237544  0.130762\n",
      "2010-07-02  0.187521  0.095982\n",
      "2010-07-06  0.124939  0.023390\n",
      "2010-07-07  0.044801 -0.000579\n",
      "...              ...       ...\n",
      "2021-08-06  2.377992  2.366504\n",
      "2021-08-09  2.379626  2.371148\n",
      "2021-08-10  2.378149  2.369142\n",
      "2021-08-11  2.377294  2.370581\n",
      "2021-08-12  2.381897  2.367604\n",
      "\n",
      "[2800 rows x 2 columns]\n"
     ]
    }
   ],
   "source": [
    "print(X_train)\n",
    "print(y_train)"
   ]
  },
  {
   "cell_type": "code",
   "execution_count": 123,
   "metadata": {},
   "outputs": [
    {
     "name": "stdout",
     "output_type": "stream",
     "text": [
      "[[-1.10179681 -1.15441923 -1.15441923 -1.06574693]\n",
      " [-1.2319764  -1.37300074 -1.37300074 -0.38040683]\n",
      " [-1.45832402 -1.51726423 -1.51726423 -0.26008416]\n",
      " ...\n",
      " [ 0.16773347  0.21404066  0.21404066 -0.50476368]\n",
      " [ 0.12122076  0.20557957  0.20557957  0.34641246]\n",
      " [ 0.13127779  0.32657492  0.32657492 -0.68669807]]\n",
      "                High       Low\n",
      "Date                          \n",
      "2021-08-13  2.386142  2.376784\n",
      "2021-08-16  2.373831  2.353082\n",
      "2021-08-17  2.351912  2.335016\n",
      "2021-08-18  2.365344  2.348532\n",
      "2021-08-19  2.359551  2.347389\n",
      "...              ...       ...\n",
      "2022-09-13  2.473341  2.462997\n",
      "2022-09-14  2.485721  2.464847\n",
      "2022-09-15  2.490127  2.478162\n",
      "2022-09-16  2.482459  2.470704\n",
      "2022-09-19  2.491137  2.473925\n",
      "\n",
      "[277 rows x 2 columns]\n"
     ]
    }
   ],
   "source": [
    "print(X_val)\n",
    "print(y_val)"
   ]
  },
  {
   "cell_type": "code",
   "execution_count": 124,
   "metadata": {},
   "outputs": [],
   "source": [
    "#print(y_val_max)\n",
    "#print(y_val_min)\n",
    "#print(y_train_max)\n",
    "#print(y_train_min)"
   ]
  },
  {
   "cell_type": "markdown",
   "metadata": {},
   "source": [
    "# ANN model test"
   ]
  },
  {
   "cell_type": "code",
   "execution_count": 125,
   "metadata": {},
   "outputs": [],
   "source": [
    "#based on open and close, let's predict what are the min and max for a given day :)\n",
    "\n",
    "def create_model(input_shape,activation,numar_neuroni):\n",
    "    yy =[]\n",
    "    for i in range(len(numar_neuroni)):\n",
    "        if i==0:\n",
    "            yy.extend([layers.Dense(numar_neuroni[i],activation=activation,input_shape=[input_shape]),\n",
    "                       layers.BatchNormalization()\n",
    "                      ])\n",
    "        else:\n",
    "             yy.extend([layers.Dense(numar_neuroni[i],activation=activation),\n",
    "                       layers.BatchNormalization()\n",
    "                      ])                          \n",
    "    model=tf.keras.models.Sequential(yy)\n",
    "    return model\n",
    "\n",
    "model = create_model(input_shape=len(X_train[0]),activation='selu',numar_neuroni=[109,69,27,12,y_val.shape[1]])"
   ]
  },
  {
   "cell_type": "code",
   "execution_count": 126,
   "metadata": {},
   "outputs": [
    {
     "name": "stdout",
     "output_type": "stream",
     "text": [
      "Epoch 1/355\n",
      "100/100 [==============================] - 2s 6ms/step - loss: 1.0714 - val_loss: 2.0202\n",
      "Epoch 2/355\n",
      "100/100 [==============================] - 0s 3ms/step - loss: 0.9430 - val_loss: 2.0238\n",
      "Epoch 3/355\n",
      "100/100 [==============================] - 0s 3ms/step - loss: 0.8402 - val_loss: 1.9988\n",
      "Epoch 4/355\n",
      "100/100 [==============================] - 0s 3ms/step - loss: 0.7393 - val_loss: 2.0231\n",
      "Epoch 5/355\n",
      "100/100 [==============================] - 0s 3ms/step - loss: 0.6404 - val_loss: 1.8554\n",
      "Epoch 6/355\n",
      "100/100 [==============================] - 0s 3ms/step - loss: 0.5394 - val_loss: 1.8919\n",
      "Epoch 7/355\n",
      "100/100 [==============================] - 0s 4ms/step - loss: 0.4458 - val_loss: 1.6888\n",
      "Epoch 8/355\n",
      "100/100 [==============================] - 1s 5ms/step - loss: 0.3502 - val_loss: 1.6014\n",
      "Epoch 9/355\n",
      "100/100 [==============================] - 1s 5ms/step - loss: 0.2666 - val_loss: 1.5462\n",
      "Epoch 10/355\n",
      "100/100 [==============================] - 0s 4ms/step - loss: 0.1868 - val_loss: 1.4931\n",
      "Epoch 11/355\n",
      "100/100 [==============================] - 0s 4ms/step - loss: 0.1459 - val_loss: 1.4285\n",
      "Epoch 12/355\n",
      "100/100 [==============================] - 0s 4ms/step - loss: 0.1245 - val_loss: 1.4045\n",
      "Epoch 13/355\n",
      "100/100 [==============================] - 0s 4ms/step - loss: 0.1085 - val_loss: 1.4092\n",
      "Epoch 14/355\n",
      "100/100 [==============================] - 0s 4ms/step - loss: 0.1012 - val_loss: 1.4204\n",
      "Epoch 15/355\n",
      "100/100 [==============================] - 0s 4ms/step - loss: 0.1100 - val_loss: 1.4329\n",
      "Epoch 16/355\n",
      "100/100 [==============================] - 0s 4ms/step - loss: 0.1042 - val_loss: 1.4316\n",
      "Epoch 17/355\n",
      "100/100 [==============================] - 0s 4ms/step - loss: 0.1098 - val_loss: 1.4186\n",
      "Epoch 18/355\n",
      "100/100 [==============================] - 0s 4ms/step - loss: 0.1016 - val_loss: 1.4795\n",
      "Epoch 19/355\n",
      "100/100 [==============================] - 0s 4ms/step - loss: 0.1101 - val_loss: 1.4809\n",
      "Epoch 20/355\n",
      "100/100 [==============================] - 0s 4ms/step - loss: 0.1054 - val_loss: 1.5143\n",
      "Epoch 21/355\n",
      "100/100 [==============================] - 0s 4ms/step - loss: 0.1042 - val_loss: 1.5239\n",
      "Epoch 22/355\n",
      "100/100 [==============================] - 0s 4ms/step - loss: 0.1020 - val_loss: 1.5400\n",
      "Epoch 23/355\n",
      "100/100 [==============================] - 0s 4ms/step - loss: 0.1015 - val_loss: 1.5296\n",
      "Epoch 24/355\n",
      "100/100 [==============================] - 0s 4ms/step - loss: 0.1048 - val_loss: 1.5521\n",
      "Epoch 25/355\n",
      "100/100 [==============================] - 0s 4ms/step - loss: 0.0975 - val_loss: 1.5462\n",
      "Epoch 26/355\n",
      "100/100 [==============================] - 0s 5ms/step - loss: 0.1020 - val_loss: 1.5632\n",
      "Epoch 27/355\n",
      "100/100 [==============================] - 0s 4ms/step - loss: 0.1115 - val_loss: 1.5250\n",
      "Epoch 28/355\n",
      "100/100 [==============================] - 0s 4ms/step - loss: 0.1034 - val_loss: 1.5590\n",
      "Epoch 29/355\n",
      "100/100 [==============================] - 0s 4ms/step - loss: 0.1045 - val_loss: 1.5386\n",
      "Epoch 30/355\n",
      "100/100 [==============================] - 0s 4ms/step - loss: 0.1019 - val_loss: 1.5729\n",
      "Epoch 31/355\n",
      "100/100 [==============================] - 0s 4ms/step - loss: 0.1063 - val_loss: 1.5577\n",
      "Epoch 32/355\n",
      "100/100 [==============================] - 0s 4ms/step - loss: 0.1000 - val_loss: 1.5695\n",
      "Epoch 33/355\n",
      "100/100 [==============================] - 0s 4ms/step - loss: 0.1072 - val_loss: 1.5684\n",
      "Epoch 34/355\n",
      "100/100 [==============================] - 0s 4ms/step - loss: 0.1151 - val_loss: 1.5748\n",
      "Epoch 35/355\n",
      "100/100 [==============================] - 0s 4ms/step - loss: 0.0979 - val_loss: 1.5633\n",
      "Epoch 36/355\n",
      "100/100 [==============================] - 0s 3ms/step - loss: 0.1072 - val_loss: 1.5208\n",
      "Epoch 37/355\n",
      "100/100 [==============================] - 0s 4ms/step - loss: 0.1016 - val_loss: 1.5245\n",
      "Epoch 38/355\n",
      "100/100 [==============================] - 0s 4ms/step - loss: 0.1015 - val_loss: 1.5311\n",
      "Epoch 39/355\n",
      "100/100 [==============================] - 0s 3ms/step - loss: 0.0984 - val_loss: 1.5554\n",
      "Epoch 40/355\n",
      "100/100 [==============================] - 0s 4ms/step - loss: 0.1066 - val_loss: 1.5384\n",
      "Epoch 41/355\n",
      "100/100 [==============================] - 0s 4ms/step - loss: 0.1007 - val_loss: 1.5312\n",
      "Epoch 42/355\n",
      "100/100 [==============================] - 0s 4ms/step - loss: 0.1100 - val_loss: 1.5537\n",
      "Epoch 43/355\n",
      "100/100 [==============================] - 0s 4ms/step - loss: 0.1007 - val_loss: 1.5338\n",
      "Epoch 44/355\n",
      "100/100 [==============================] - 0s 3ms/step - loss: 0.1005 - val_loss: 1.5582\n",
      "Epoch 45/355\n",
      "100/100 [==============================] - 0s 4ms/step - loss: 0.1059 - val_loss: 1.5856\n",
      "Epoch 46/355\n",
      "100/100 [==============================] - 0s 4ms/step - loss: 0.1018 - val_loss: 1.5826\n",
      "Epoch 47/355\n",
      "100/100 [==============================] - 0s 4ms/step - loss: 0.1078 - val_loss: 1.5865\n",
      "Epoch 48/355\n",
      "100/100 [==============================] - 0s 4ms/step - loss: 0.1058 - val_loss: 1.5714\n",
      "Epoch 49/355\n",
      "100/100 [==============================] - 0s 4ms/step - loss: 0.1011 - val_loss: 1.5564\n",
      "Epoch 50/355\n",
      "100/100 [==============================] - 0s 4ms/step - loss: 0.1107 - val_loss: 1.5594\n",
      "Epoch 51/355\n",
      "100/100 [==============================] - 0s 5ms/step - loss: 0.0916 - val_loss: 1.5591\n",
      "Epoch 52/355\n",
      "100/100 [==============================] - 0s 4ms/step - loss: 0.0953 - val_loss: 1.5704\n",
      "Epoch 53/355\n",
      "100/100 [==============================] - 0s 4ms/step - loss: 0.0977 - val_loss: 1.5677\n",
      "Epoch 54/355\n",
      "100/100 [==============================] - 0s 4ms/step - loss: 0.1159 - val_loss: 1.5593\n",
      "Epoch 55/355\n",
      "100/100 [==============================] - 0s 4ms/step - loss: 0.1040 - val_loss: 1.5646\n",
      "Epoch 56/355\n",
      "100/100 [==============================] - 0s 4ms/step - loss: 0.0991 - val_loss: 1.5415\n",
      "Epoch 57/355\n",
      "100/100 [==============================] - 0s 4ms/step - loss: 0.1145 - val_loss: 1.5910\n",
      "Epoch 58/355\n",
      "100/100 [==============================] - 0s 4ms/step - loss: 0.1040 - val_loss: 1.5609\n",
      "Epoch 59/355\n",
      "100/100 [==============================] - 0s 4ms/step - loss: 0.1020 - val_loss: 1.5747\n",
      "Epoch 60/355\n",
      "100/100 [==============================] - 0s 4ms/step - loss: 0.1041 - val_loss: 1.6009\n",
      "Epoch 61/355\n",
      "100/100 [==============================] - 0s 4ms/step - loss: 0.1034 - val_loss: 1.6002\n",
      "Epoch 62/355\n",
      "100/100 [==============================] - 0s 4ms/step - loss: 0.1049 - val_loss: 1.5740\n",
      "Epoch 63/355\n",
      "100/100 [==============================] - 0s 4ms/step - loss: 0.0996 - val_loss: 1.5549\n",
      "Epoch 64/355\n",
      "100/100 [==============================] - 0s 4ms/step - loss: 0.1041 - val_loss: 1.5889\n",
      "Epoch 65/355\n",
      "100/100 [==============================] - 0s 4ms/step - loss: 0.0958 - val_loss: 1.5952\n",
      "Epoch 66/355\n",
      "100/100 [==============================] - 0s 4ms/step - loss: 0.0886 - val_loss: 1.5738\n",
      "Epoch 67/355\n",
      "100/100 [==============================] - 0s 4ms/step - loss: 0.1030 - val_loss: 1.5873\n",
      "Epoch 68/355\n",
      "100/100 [==============================] - 0s 4ms/step - loss: 0.1052 - val_loss: 1.5687\n",
      "Epoch 69/355\n",
      "100/100 [==============================] - 0s 4ms/step - loss: 0.0889 - val_loss: 1.5777\n",
      "Epoch 70/355\n",
      "100/100 [==============================] - 0s 4ms/step - loss: 0.0968 - val_loss: 1.5978\n",
      "Epoch 71/355\n",
      "100/100 [==============================] - 0s 3ms/step - loss: 0.0972 - val_loss: 1.5777\n",
      "Epoch 72/355\n",
      "100/100 [==============================] - 0s 4ms/step - loss: 0.1036 - val_loss: 1.6004\n",
      "Epoch 73/355\n",
      "100/100 [==============================] - 0s 4ms/step - loss: 0.0924 - val_loss: 1.6209\n",
      "Epoch 74/355\n",
      "100/100 [==============================] - 0s 3ms/step - loss: 0.1104 - val_loss: 1.5703\n",
      "Epoch 75/355\n",
      "100/100 [==============================] - 0s 4ms/step - loss: 0.1084 - val_loss: 1.6090\n",
      "Epoch 76/355\n",
      "100/100 [==============================] - 0s 4ms/step - loss: 0.1053 - val_loss: 1.6225\n",
      "Epoch 77/355\n",
      "100/100 [==============================] - 0s 4ms/step - loss: 0.0924 - val_loss: 1.6431\n",
      "Epoch 78/355\n",
      "100/100 [==============================] - 0s 4ms/step - loss: 0.0973 - val_loss: 1.6133\n",
      "Epoch 79/355\n",
      "100/100 [==============================] - 0s 4ms/step - loss: 0.1052 - val_loss: 1.6256\n",
      "Epoch 80/355\n",
      "100/100 [==============================] - 0s 4ms/step - loss: 0.0871 - val_loss: 1.6545\n",
      "Epoch 81/355\n"
     ]
    },
    {
     "name": "stdout",
     "output_type": "stream",
     "text": [
      "100/100 [==============================] - 0s 4ms/step - loss: 0.0919 - val_loss: 1.6173\n",
      "Epoch 82/355\n",
      "100/100 [==============================] - 0s 4ms/step - loss: 0.1055 - val_loss: 1.6320\n",
      "Epoch 83/355\n",
      "100/100 [==============================] - 0s 4ms/step - loss: 0.1088 - val_loss: 1.5834\n",
      "Epoch 84/355\n",
      "100/100 [==============================] - 0s 4ms/step - loss: 0.1037 - val_loss: 1.5973\n",
      "Epoch 85/355\n",
      "100/100 [==============================] - 0s 4ms/step - loss: 0.0995 - val_loss: 1.6109\n",
      "Epoch 86/355\n",
      "100/100 [==============================] - 0s 4ms/step - loss: 0.0976 - val_loss: 1.6232\n",
      "Epoch 87/355\n",
      "100/100 [==============================] - 0s 4ms/step - loss: 0.1012 - val_loss: 1.6085\n",
      "Epoch 88/355\n",
      "100/100 [==============================] - 0s 4ms/step - loss: 0.1060 - val_loss: 1.5865\n",
      "Epoch 89/355\n",
      "100/100 [==============================] - 0s 4ms/step - loss: 0.0912 - val_loss: 1.6188\n",
      "Epoch 90/355\n",
      "100/100 [==============================] - 0s 4ms/step - loss: 0.0886 - val_loss: 1.6097\n",
      "Epoch 91/355\n",
      "100/100 [==============================] - 0s 4ms/step - loss: 0.0947 - val_loss: 1.6241\n",
      "Epoch 92/355\n",
      "100/100 [==============================] - 0s 4ms/step - loss: 0.1088 - val_loss: 1.6254\n"
     ]
    }
   ],
   "source": [
    "model.compile(optimizer='adam',loss=tf.keras.losses.MAE)\n",
    "history = model.fit(X_train,y_train, validation_data=(X_val,y_val),batch_size=28,epochs=355,callbacks=[tf.keras.callbacks.EarlyStopping(patience=80, min_delta=0.01, restore_best_weights=True)])"
   ]
  },
  {
   "cell_type": "code",
   "execution_count": 127,
   "metadata": {},
   "outputs": [
    {
     "data": {
      "text/plain": [
       "<AxesSubplot:>"
      ]
     },
     "execution_count": 127,
     "metadata": {},
     "output_type": "execute_result"
    },
    {
     "data": {
      "image/png": "[encoded data removed]",
      "text/plain": [
       "<Figure size 432x288 with 1 Axes>"
      ]
     },
     "metadata": {
      "needs_background": "light"
     },
     "output_type": "display_data"
    }
   ],
   "source": [
    "df_hist= pd.DataFrame(history.history)\n",
    "df_hist.plot()"
   ]
  },
  {
   "cell_type": "code",
   "execution_count": 128,
   "metadata": {},
   "outputs": [
    {
     "name": "stdout",
     "output_type": "stream",
     "text": [
      "97/97 [==============================] - 0s 3ms/step\n",
      "(3077, 2)\n"
     ]
    },
    {
     "data": {
      "text/html": [
       "<div>\n",
       "<style scoped>\n",
       "    .dataframe tbody tr th:only-of-type {\n",
       "        vertical-align: middle;\n",
       "    }\n",
       "\n",
       "    .dataframe tbody tr th {\n",
       "        vertical-align: top;\n",
       "    }\n",
       "\n",
       "    .dataframe thead th {\n",
       "        text-align: right;\n",
       "    }\n",
       "</style>\n",
       "<table border=\"1\" class=\"dataframe\">\n",
       "  <thead>\n",
       "    <tr style=\"text-align: right;\">\n",
       "      <th></th>\n",
       "      <th>High</th>\n",
       "      <th>Low</th>\n",
       "    </tr>\n",
       "    <tr>\n",
       "      <th>Date</th>\n",
       "      <th></th>\n",
       "      <th></th>\n",
       "    </tr>\n",
       "  </thead>\n",
       "  <tbody>\n",
       "    <tr>\n",
       "      <th>2010-06-30</th>\n",
       "      <td>3.709839</td>\n",
       "      <td>5.325946</td>\n",
       "    </tr>\n",
       "    <tr>\n",
       "      <th>2010-07-01</th>\n",
       "      <td>1.922999</td>\n",
       "      <td>3.068630</td>\n",
       "    </tr>\n",
       "    <tr>\n",
       "      <th>2010-07-02</th>\n",
       "      <td>1.599491</td>\n",
       "      <td>2.868788</td>\n",
       "    </tr>\n",
       "    <tr>\n",
       "      <th>2010-07-06</th>\n",
       "      <td>1.693440</td>\n",
       "      <td>2.938402</td>\n",
       "    </tr>\n",
       "    <tr>\n",
       "      <th>2010-07-07</th>\n",
       "      <td>1.689262</td>\n",
       "      <td>2.917265</td>\n",
       "    </tr>\n",
       "    <tr>\n",
       "      <th>...</th>\n",
       "      <td>...</td>\n",
       "      <td>...</td>\n",
       "    </tr>\n",
       "    <tr>\n",
       "      <th>2022-09-13</th>\n",
       "      <td>234.231918</td>\n",
       "      <td>162.019058</td>\n",
       "    </tr>\n",
       "    <tr>\n",
       "      <th>2022-09-14</th>\n",
       "      <td>234.403778</td>\n",
       "      <td>166.368378</td>\n",
       "    </tr>\n",
       "    <tr>\n",
       "      <th>2022-09-15</th>\n",
       "      <td>245.198212</td>\n",
       "      <td>170.299576</td>\n",
       "    </tr>\n",
       "    <tr>\n",
       "      <th>2022-09-16</th>\n",
       "      <td>240.090469</td>\n",
       "      <td>168.498627</td>\n",
       "    </tr>\n",
       "    <tr>\n",
       "      <th>2022-09-19</th>\n",
       "      <td>243.639847</td>\n",
       "      <td>171.946106</td>\n",
       "    </tr>\n",
       "  </tbody>\n",
       "</table>\n",
       "<p>3077 rows × 2 columns</p>\n",
       "</div>"
      ],
      "text/plain": [
       "                  High         Low\n",
       "Date                              \n",
       "2010-06-30    3.709839    5.325946\n",
       "2010-07-01    1.922999    3.068630\n",
       "2010-07-02    1.599491    2.868788\n",
       "2010-07-06    1.693440    2.938402\n",
       "2010-07-07    1.689262    2.917265\n",
       "...                ...         ...\n",
       "2022-09-13  234.231918  162.019058\n",
       "2022-09-14  234.403778  166.368378\n",
       "2022-09-15  245.198212  170.299576\n",
       "2022-09-16  240.090469  168.498627\n",
       "2022-09-19  243.639847  171.946106\n",
       "\n",
       "[3077 rows x 2 columns]"
      ]
     },
     "execution_count": 128,
     "metadata": {},
     "output_type": "execute_result"
    }
   ],
   "source": [
    "#let's analyse more in depth how good the model is and where it fails\n",
    "#def inverse_scaling(dataf,type,df_min=None,df_max=None,df_mean=None,df_std=None):\n",
    "test=df.copy()\n",
    "data= model.predict(preprocessor.fit_transform(test[list_of_features]))\n",
    "print(data.shape)\n",
    "data = pd.DataFrame(data,columns=['High','Low']).set_index(df.index)\n",
    "data.High = pd.concat([inverse_scaling(data.High.loc[:y_train.index[-1]],type='log',\n",
    "                                       #df_mean=y_train_mean.High,df_std=y_train_std.High\n",
    "                                      ),\n",
    "                      inverse_scaling(data.High.loc[y_val.index[0]:],type='log',\n",
    "                                      #df_mean=y_val_mean.High,df_std=y_val_std.High\n",
    "                                     )\n",
    "                      ],axis=0, join=\"outer\", ignore_index=False)\n",
    "\n",
    "data.Low= pd.concat([inverse_scaling(data.Low.loc[:y_train.index[-1]],type='log',\n",
    "                                     #df_mean=y_train_mean.Low,df_std=y_train_std.Low\n",
    "                                    ),\n",
    "                    inverse_scaling(data.Low.loc[y_val.index[0]:],type='log',\n",
    "                                    #df_mean=y_val_mean.Low,df_std=y_val_std.Low\n",
    "                                   )], axis=0, join=\"outer\", ignore_index=False)\n",
    "data"
   ]
  },
  {
   "cell_type": "code",
   "execution_count": 129,
   "metadata": {},
   "outputs": [
    {
     "data": {
      "text/plain": [
       "Date\n",
       "2010-06-30      2.028000\n",
       "2010-07-01      1.728000\n",
       "2010-07-02      1.540000\n",
       "2010-07-06      1.333333\n",
       "2010-07-07      1.108667\n",
       "                 ...    \n",
       "2022-09-13    297.399994\n",
       "2022-09-14    306.000000\n",
       "2022-09-15    309.119995\n",
       "2022-09-16    303.709991\n",
       "2022-09-19    309.839996\n",
       "Name: High, Length: 3077, dtype: float64"
      ]
     },
     "execution_count": 129,
     "metadata": {},
     "output_type": "execute_result"
    }
   ],
   "source": [
    "df.High"
   ]
  },
  {
   "cell_type": "code",
   "execution_count": 130,
   "metadata": {},
   "outputs": [
    {
     "data": {
      "text/plain": [
       "<matplotlib.legend.Legend at 0x2256dcde940>"
      ]
     },
     "execution_count": 130,
     "metadata": {},
     "output_type": "execute_result"
    },
    {
     "data": {
      "image/png": "[encoded data removed]",
      "text/plain": [
       "<Figure size 432x288 with 1 Axes>"
      ]
     },
     "metadata": {
      "needs_background": "light"
     },
     "output_type": "display_data"
    }
   ],
   "source": [
    "data.High.plot(label='BOT')\n",
    "df.High.plot(label='Real Life')\n",
    "plt.legend()"
   ]
  },
  {
   "cell_type": "code",
   "execution_count": 131,
   "metadata": {},
   "outputs": [
    {
     "data": {
      "text/plain": [
       "<matplotlib.legend.Legend at 0x2256dd5f460>"
      ]
     },
     "execution_count": 131,
     "metadata": {},
     "output_type": "execute_result"
    },
    {
     "data": {
      "image/png": "[encoded data removed]",
      "text/plain": [
       "<Figure size 432x288 with 1 Axes>"
      ]
     },
     "metadata": {
      "needs_background": "light"
     },
     "output_type": "display_data"
    }
   ],
   "source": [
    "data.Low.plot(label='BOT')\n",
    "df.Low.plot(label='Real Life')\n",
    "plt.legend()"
   ]
  },
  {
   "cell_type": "code",
   "execution_count": 133,
   "metadata": {},
   "outputs": [
    {
     "data": {
      "text/plain": [
       "<matplotlib.legend.Legend at 0x225796847f0>"
      ]
     },
     "execution_count": 133,
     "metadata": {},
     "output_type": "execute_result"
    },
    {
     "data": {
      "image/png": "[encoded data removed]",
      "text/plain": [
       "<Figure size 432x288 with 1 Axes>"
      ]
     },
     "metadata": {
      "needs_background": "light"
     },
     "output_type": "display_data"
    }
   ],
   "source": [
    "(data.High-data.Low).plot(label='BOT')\n",
    "plt.legend()"
   ]
  },
  {
   "cell_type": "code",
   "execution_count": 134,
   "metadata": {},
   "outputs": [
    {
     "data": {
      "text/plain": [
       "<matplotlib.legend.Legend at 0x2257a70deb0>"
      ]
     },
     "execution_count": 134,
     "metadata": {},
     "output_type": "execute_result"
    },
    {
     "data": {
      "image/png": "[encoded data removed]",
      "text/plain": [
       "<Figure size 432x288 with 1 Axes>"
      ]
     },
     "metadata": {
      "needs_background": "light"
     },
     "output_type": "display_data"
    }
   ],
   "source": [
    "(df.High-df.Low).plot(label='Real Life')\n",
    "plt.legend()"
   ]
  },
  {
   "cell_type": "markdown",
   "metadata": {},
   "source": [
    "# RNN Model"
   ]
  },
  {
   "cell_type": "code",
   "execution_count": null,
   "metadata": {},
   "outputs": [],
   "source": []
  }
 ],
 "metadata": {
  "kernelspec": {
   "display_name": "Python 3 (ipykernel)",
   "language": "python",
   "name": "python3"
  },
  "language_info": {
   "codemirror_mode": {
    "name": "ipython",
    "version": 3
   },
   "file_extension": ".py",
   "mimetype": "text/x-python",
   "name": "python",
   "nbconvert_exporter": "python",
   "pygments_lexer": "ipython3",
   "version": "3.9.12"
  }
 },
 "nbformat": 4,
 "nbformat_minor": 1
}
